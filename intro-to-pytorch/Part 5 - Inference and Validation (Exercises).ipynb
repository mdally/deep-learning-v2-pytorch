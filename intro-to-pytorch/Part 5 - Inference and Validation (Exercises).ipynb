{
 "cells": [
  {
   "cell_type": "markdown",
   "metadata": {},
   "source": [
    "# Inference and Validation\n",
    "\n",
    "Now that you have a trained network, you can use it for making predictions. This is typically called **inference**, a term borrowed from statistics. However, neural networks have a tendency to perform *too well* on the training data and aren't able to generalize to data that hasn't been seen before. This is called **overfitting** and it impairs inference performance. To test for overfitting while training, we measure the performance on data not in the training set called the **validation** set. We avoid overfitting through regularization such as dropout while monitoring the validation performance during training. In this notebook, I'll show you how to do this in PyTorch. \n",
    "\n",
    "As usual, let's start by loading the dataset through torchvision. You'll learn more about torchvision and loading data in a later part. This time we'll be taking advantage of the test set which you can get by setting `train=False` here:\n",
    "\n",
    "```python\n",
    "testset = datasets.FashionMNIST('~/.pytorch/F_MNIST_data/', download=True, train=False, transform=transform)\n",
    "```\n",
    "\n",
    "The test set contains images just like the training set. Typically you'll see 10-20% of the original dataset held out for testing and validation with the rest being used for training."
   ]
  },
  {
   "cell_type": "code",
   "execution_count": 1,
   "metadata": {},
   "outputs": [],
   "source": [
    "import torch\n",
    "from torchvision import datasets, transforms\n",
    "\n",
    "# Define a transform to normalize the data\n",
    "transform = transforms.Compose([transforms.ToTensor(),\n",
    "                                transforms.Normalize((0.5,), (0.5,))])\n",
    "# Download and load the training data\n",
    "trainset = datasets.FashionMNIST('~/.pytorch/F_MNIST_data/', download=True, train=True, transform=transform)\n",
    "trainloader = torch.utils.data.DataLoader(trainset, batch_size=64, shuffle=True)\n",
    "\n",
    "# Download and load the test data\n",
    "testset = datasets.FashionMNIST('~/.pytorch/F_MNIST_data/', download=True, train=False, transform=transform)\n",
    "testloader = torch.utils.data.DataLoader(testset, batch_size=64, shuffle=True)"
   ]
  },
  {
   "cell_type": "markdown",
   "metadata": {},
   "source": [
    "Here I'll create a model like normal, using the same one from my solution for part 4."
   ]
  },
  {
   "cell_type": "code",
   "execution_count": 2,
   "metadata": {},
   "outputs": [],
   "source": [
    "from torch import nn, optim\n",
    "import torch.nn.functional as F\n",
    "\n",
    "class Classifier(nn.Module):\n",
    "    def __init__(self):\n",
    "        super().__init__()\n",
    "        self.fc1 = nn.Linear(784, 256)\n",
    "        self.fc2 = nn.Linear(256, 128)\n",
    "        self.fc3 = nn.Linear(128, 64)\n",
    "        self.fc4 = nn.Linear(64, 10)\n",
    "        \n",
    "    def forward(self, x):\n",
    "        # make sure input tensor is flattened\n",
    "        x = x.view(x.shape[0], -1)\n",
    "        \n",
    "        x = F.relu(self.fc1(x))\n",
    "        x = F.relu(self.fc2(x))\n",
    "        x = F.relu(self.fc3(x))\n",
    "        x = F.log_softmax(self.fc4(x), dim=1)\n",
    "        \n",
    "        return x"
   ]
  },
  {
   "cell_type": "markdown",
   "metadata": {},
   "source": [
    "The goal of validation is to measure the model's performance on data that isn't part of the training set. Performance here is up to the developer to define though. Typically this is just accuracy, the percentage of classes the network predicted correctly. Other options are [precision and recall](https://en.wikipedia.org/wiki/Precision_and_recall#Definition_(classification_context)) and top-5 error rate. We'll focus on accuracy here. First I'll do a forward pass with one batch from the test set."
   ]
  },
  {
   "cell_type": "code",
   "execution_count": 3,
   "metadata": {},
   "outputs": [
    {
     "name": "stdout",
     "output_type": "stream",
     "text": [
      "torch.Size([64, 10])\n"
     ]
    }
   ],
   "source": [
    "model = Classifier()\n",
    "\n",
    "images, labels = next(iter(testloader))\n",
    "# Get the class probabilities\n",
    "ps = torch.exp(model(images))\n",
    "# Make sure the shape is appropriate, we should get 10 class probabilities for 64 examples\n",
    "print(ps.shape)"
   ]
  },
  {
   "cell_type": "markdown",
   "metadata": {},
   "source": [
    "With the probabilities, we can get the most likely class using the `ps.topk` method. This returns the $k$ highest values. Since we just want the most likely class, we can use `ps.topk(1)`. This returns a tuple of the top-$k$ values and the top-$k$ indices. If the highest value is the fifth element, we'll get back 4 as the index."
   ]
  },
  {
   "cell_type": "code",
   "execution_count": 4,
   "metadata": {},
   "outputs": [
    {
     "name": "stdout",
     "output_type": "stream",
     "text": [
      "tensor([[2],\n",
      "        [5],\n",
      "        [2],\n",
      "        [5],\n",
      "        [2],\n",
      "        [5],\n",
      "        [5],\n",
      "        [5],\n",
      "        [5],\n",
      "        [5]])\n"
     ]
    }
   ],
   "source": [
    "top_p, top_class = ps.topk(1, dim=1)\n",
    "# Look at the most likely classes for the first 10 examples\n",
    "print(top_class[:10,:])"
   ]
  },
  {
   "cell_type": "markdown",
   "metadata": {},
   "source": [
    "Now we can check if the predicted classes match the labels. This is simple to do by equating `top_class` and `labels`, but we have to be careful of the shapes. Here `top_class` is a 2D tensor with shape `(64, 1)` while `labels` is 1D with shape `(64)`. To get the equality to work out the way we want, `top_class` and `labels` must have the same shape.\n",
    "\n",
    "If we do\n",
    "\n",
    "```python\n",
    "equals = top_class == labels\n",
    "```\n",
    "\n",
    "`equals` will have shape `(64, 64)`, try it yourself. What it's doing is comparing the one element in each row of `top_class` with each element in `labels` which returns 64 True/False boolean values for each row."
   ]
  },
  {
   "cell_type": "code",
   "execution_count": 6,
   "metadata": {},
   "outputs": [
    {
     "name": "stdout",
     "output_type": "stream",
     "text": [
      "tensor([[False],\n",
      "        [ True],\n",
      "        [False],\n",
      "        [False],\n",
      "        [False],\n",
      "        [False],\n",
      "        [ True],\n",
      "        [False],\n",
      "        [False],\n",
      "        [False]])\n"
     ]
    }
   ],
   "source": [
    "equals = top_class == labels.view(*top_class.shape)\n",
    "print(equals[:10])"
   ]
  },
  {
   "cell_type": "markdown",
   "metadata": {},
   "source": [
    "Now we need to calculate the percentage of correct predictions. `equals` has binary values, either 0 or 1. This means that if we just sum up all the values and divide by the number of values, we get the percentage of correct predictions. This is the same operation as taking the mean, so we can get the accuracy with a call to `torch.mean`. If only it was that simple. If you try `torch.mean(equals)`, you'll get an error\n",
    "\n",
    "```\n",
    "RuntimeError: mean is not implemented for type torch.ByteTensor\n",
    "```\n",
    "\n",
    "This happens because `equals` has type `torch.ByteTensor` but `torch.mean` isn't implemented for tensors with that type. So we'll need to convert `equals` to a float tensor. Note that when we take `torch.mean` it returns a scalar tensor, to get the actual value as a float we'll need to do `accuracy.item()`."
   ]
  },
  {
   "cell_type": "code",
   "execution_count": 7,
   "metadata": {},
   "outputs": [
    {
     "name": "stdout",
     "output_type": "stream",
     "text": [
      "tensor([[0.],\n",
      "        [1.],\n",
      "        [0.],\n",
      "        [0.],\n",
      "        [0.],\n",
      "        [0.],\n",
      "        [1.],\n",
      "        [0.],\n",
      "        [0.],\n",
      "        [0.]])\n",
      "Accuracy: 15.625%\n"
     ]
    }
   ],
   "source": [
    "print(equals.type(torch.FloatTensor)[:10])\n",
    "accuracy = torch.mean(equals.type(torch.FloatTensor))\n",
    "print(f'Accuracy: {accuracy.item()*100}%')"
   ]
  },
  {
   "cell_type": "markdown",
   "metadata": {},
   "source": [
    "The network is untrained so it's making random guesses and we should see an accuracy around 10%. Now let's train our network and include our validation pass so we can measure how well the network is performing on the test set. Since we're not updating our parameters in the validation pass, we can speed up our code by turning off gradients using `torch.no_grad()`:\n",
    "\n",
    "```python\n",
    "# turn off gradients\n",
    "with torch.no_grad():\n",
    "    # validation pass here\n",
    "    for images, labels in testloader:\n",
    "        ...\n",
    "```\n",
    "\n",
    ">**Exercise:** Implement the validation loop below and print out the total accuracy after the loop. You can largely copy and paste the code from above, but I suggest typing it in because writing it out yourself is essential for building the skill. In general you'll always learn more by typing it rather than copy-pasting. You should be able to get an accuracy above 80%."
   ]
  },
  {
   "cell_type": "code",
   "execution_count": 52,
   "metadata": {},
   "outputs": [
    {
     "name": "stdout",
     "output_type": "stream",
     "text": [
      "Running Loss: 490.177 | Accuracy: 81.75%\n",
      "Running Loss: 373.609 | Accuracy: 84.01%\n",
      "Running Loss: 333.565 | Accuracy: 84.81%\n",
      "Running Loss: 313.285 | Accuracy: 87.08%\n",
      "Running Loss: 297.382 | Accuracy: 86.39%\n",
      "Running Loss: 287.707 | Accuracy: 87.67%\n",
      "Running Loss: 273.947 | Accuracy: 87.53%\n",
      "Running Loss: 263.564 | Accuracy: 87.34%\n",
      "Running Loss: 256.109 | Accuracy: 87.49%\n",
      "Running Loss: 248.384 | Accuracy: 87.37%\n",
      "Running Loss: 242.231 | Accuracy: 87.69%\n",
      "Running Loss: 238.885 | Accuracy: 88.01%\n",
      "Running Loss: 231.348 | Accuracy: 88.28%\n",
      "Running Loss: 227.417 | Accuracy: 87.32%\n",
      "Running Loss: 224.657 | Accuracy: 88.52%\n",
      "Running Loss: 217.272 | Accuracy: 87.54%\n",
      "Running Loss: 216.619 | Accuracy: 87.56%\n",
      "Running Loss: 208.448 | Accuracy: 88.25%\n",
      "Running Loss: 205.140 | Accuracy: 88.25%\n",
      "Running Loss: 203.498 | Accuracy: 88.15%\n",
      "Running Loss: 196.628 | Accuracy: 88.66%\n",
      "Running Loss: 195.565 | Accuracy: 87.98%\n",
      "Running Loss: 196.684 | Accuracy: 88.40%\n",
      "Running Loss: 189.447 | Accuracy: 87.86%\n",
      "Running Loss: 181.988 | Accuracy: 88.08%\n",
      "Running Loss: 179.970 | Accuracy: 88.30%\n",
      "Running Loss: 183.640 | Accuracy: 88.06%\n",
      "Running Loss: 174.999 | Accuracy: 88.68%\n",
      "Running Loss: 172.979 | Accuracy: 88.47%\n",
      "Running Loss: 171.235 | Accuracy: 88.38%\n"
     ]
    }
   ],
   "source": [
    "model = Classifier()\n",
    "criterion = nn.NLLLoss()\n",
    "optimizer = optim.Adam(model.parameters(), lr=0.003)\n",
    "\n",
    "epochs = 30\n",
    "steps = 0\n",
    "\n",
    "cuda = torch.device('cuda')\n",
    "model.cuda()\n",
    "\n",
    "train_losses, test_losses = [], []\n",
    "for e in range(epochs):\n",
    "    running_loss = 0\n",
    "    for images, labels in trainloader:\n",
    "        \n",
    "        optimizer.zero_grad()\n",
    "        \n",
    "        log_ps = model(images.to(cuda))\n",
    "        loss = criterion(log_ps, labels.to(cuda))\n",
    "        loss.backward()\n",
    "        optimizer.step()\n",
    "        \n",
    "        running_loss += loss.item()\n",
    "        \n",
    "    else:\n",
    "        ## TODO: Implement the validation pass and print out the validation accuracy\n",
    "        with torch.no_grad():\n",
    "            results = None\n",
    "            \n",
    "            for images, labels in testloader:\n",
    "                prob = torch.exp(model(images.to(cuda)))\n",
    "                \n",
    "                top_p, top_class = prob.topk(1,dim=1)\n",
    "                \n",
    "                scores = (top_class == labels.to(cuda).view(top_class.shape)).type(torch.FloatTensor)\n",
    "                \n",
    "                if results == None:\n",
    "                    results = scores\n",
    "                else:\n",
    "                    results = torch.cat((results, scores))\n",
    "                \n",
    "        accuracy = torch.mean(results)\n",
    "        print('Running Loss: {:.3f} | Accuracy: {:.2f}%'.format(running_loss, accuracy.item()*100))"
   ]
  },
  {
   "cell_type": "markdown",
   "metadata": {},
   "source": [
    "## Overfitting\n",
    "\n",
    "If we look at the training and validation losses as we train the network, we can see a phenomenon known as overfitting.\n",
    "\n",
    "<img src='assets/overfitting.png' width=450px>\n",
    "\n",
    "The network learns the training set better and better, resulting in lower training losses. However, it starts having problems generalizing to data outside the training set leading to the validation loss increasing. The ultimate goal of any deep learning model is to make predictions on new data, so we should strive to get the lowest validation loss possible. One option is to use the version of the model with the lowest validation loss, here the one around 8-10 training epochs. This strategy is called *early-stopping*. In practice, you'd save the model frequently as you're training then later choose the model with the lowest validation loss.\n",
    "\n",
    "The most common method to reduce overfitting (outside of early-stopping) is *dropout*, where we randomly drop input units. This forces the network to share information between weights, increasing it's ability to generalize to new data. Adding dropout in PyTorch is straightforward using the [`nn.Dropout`](https://pytorch.org/docs/stable/nn.html#torch.nn.Dropout) module.\n",
    "\n",
    "```python\n",
    "class Classifier(nn.Module):\n",
    "    def __init__(self):\n",
    "        super().__init__()\n",
    "        self.fc1 = nn.Linear(784, 256)\n",
    "        self.fc2 = nn.Linear(256, 128)\n",
    "        self.fc3 = nn.Linear(128, 64)\n",
    "        self.fc4 = nn.Linear(64, 10)\n",
    "        \n",
    "        # Dropout module with 0.2 drop probability\n",
    "        self.dropout = nn.Dropout(p=0.2)\n",
    "        \n",
    "    def forward(self, x):\n",
    "        # make sure input tensor is flattened\n",
    "        x = x.view(x.shape[0], -1)\n",
    "        \n",
    "        # Now with dropout\n",
    "        x = self.dropout(F.relu(self.fc1(x)))\n",
    "        x = self.dropout(F.relu(self.fc2(x)))\n",
    "        x = self.dropout(F.relu(self.fc3(x)))\n",
    "        \n",
    "        # output so no dropout here\n",
    "        x = F.log_softmax(self.fc4(x), dim=1)\n",
    "        \n",
    "        return x\n",
    "```\n",
    "\n",
    "During training we want to use dropout to prevent overfitting, but during inference we want to use the entire network. So, we need to turn off dropout during validation, testing, and whenever we're using the network to make predictions. To do this, you use `model.eval()`. This sets the model to evaluation mode where the dropout probability is 0. You can turn dropout back on by setting the model to train mode with `model.train()`. In general, the pattern for the validation loop will look like this, where you turn off gradients, set the model to evaluation mode, calculate the validation loss and metric, then set the model back to train mode.\n",
    "\n",
    "```python\n",
    "# turn off gradients\n",
    "with torch.no_grad():\n",
    "    \n",
    "    # set model to evaluation mode\n",
    "    model.eval()\n",
    "    \n",
    "    # validation pass here\n",
    "    for images, labels in testloader:\n",
    "        ...\n",
    "\n",
    "# set model back to train mode\n",
    "model.train()\n",
    "```"
   ]
  },
  {
   "cell_type": "markdown",
   "metadata": {},
   "source": [
    "> **Exercise:** Add dropout to your model and train it on Fashion-MNIST again. See if you can get a lower validation loss or higher accuracy."
   ]
  },
  {
   "cell_type": "code",
   "execution_count": 65,
   "metadata": {},
   "outputs": [],
   "source": [
    "## TODO: Define your model with dropout added\n",
    "\n",
    "model = nn.Sequential(\n",
    "    nn.Dropout(p=0.05),\n",
    "    nn.Linear(784,128),\n",
    "    nn.ReLU(),\n",
    "    nn.Dropout(p=0.2),\n",
    "    nn.Linear(128,128),\n",
    "    nn.ReLU(),\n",
    "    nn.Dropout(p=0.1),\n",
    "    nn.Linear(128,64),\n",
    "    nn.ReLU(),\n",
    "    nn.Dropout(p=0.05),\n",
    "    nn.Linear(64,64),\n",
    "    nn.ReLU(),\n",
    "    nn.Dropout(p=0.025),\n",
    "    nn.Linear(64,32),\n",
    "    nn.ReLU(),\n",
    "    nn.Dropout(p=0.0125),\n",
    "    nn.Linear(32,32),\n",
    "    nn.ReLU(),\n",
    "    nn.Linear(32,10),\n",
    "    nn.LogSoftmax(dim=1))\n",
    "\n",
    "criterion = nn.NLLLoss()\n",
    "optimizer = optim.SGD(model.parameters(), lr=0.075)\n",
    "                                      "
   ]
  },
  {
   "cell_type": "code",
   "execution_count": 71,
   "metadata": {},
   "outputs": [
    {
     "name": "stdout",
     "output_type": "stream",
     "text": [
      " 1 - Loss: [0.37,0.42] | Accuracy: [86.68%,84.97]\n",
      " 2 - Loss: [0.42,0.48] | Accuracy: [84.79%,82.87]\n",
      " 3 - Loss: [0.40,0.38] | Accuracy: [85.86%,86.37]\n",
      " 4 - Loss: [0.38,0.38] | Accuracy: [86.36%,86.48]\n",
      " 5 - Loss: [0.37,0.37] | Accuracy: [86.74%,86.64]\n",
      " 6 - Loss: [0.36,0.37] | Accuracy: [87.02%,86.28]\n",
      " 7 - Loss: [0.35,0.36] | Accuracy: [87.38%,87.17]\n",
      " 8 - Loss: [0.34,0.36] | Accuracy: [87.72%,87.19]\n",
      " 9 - Loss: [0.33,0.36] | Accuracy: [87.89%,87.03]\n",
      "10 - Loss: [0.33,0.35] | Accuracy: [88.15%,87.50]\n",
      "11 - Loss: [0.32,0.37] | Accuracy: [88.45%,87.02]\n",
      "12 - Loss: [0.32,0.35] | Accuracy: [88.41%,87.42]\n",
      "13 - Loss: [0.32,0.34] | Accuracy: [88.48%,87.98]\n",
      "14 - Loss: [0.31,0.35] | Accuracy: [88.68%,87.85]\n",
      "15 - Loss: [0.31,0.34] | Accuracy: [88.76%,87.77]\n",
      "16 - Loss: [0.30,0.33] | Accuracy: [89.00%,87.96]\n",
      "17 - Loss: [0.30,0.34] | Accuracy: [89.10%,87.66]\n",
      "18 - Loss: [0.30,0.33] | Accuracy: [89.06%,88.12]\n",
      "19 - Loss: [0.29,0.35] | Accuracy: [89.35%,87.45]\n",
      "20 - Loss: [0.29,0.35] | Accuracy: [89.37%,88.03]\n",
      "21 - Loss: [0.29,0.32] | Accuracy: [89.60%,88.54]\n",
      "22 - Loss: [0.28,0.34] | Accuracy: [89.67%,87.65]\n",
      "23 - Loss: [0.28,0.33] | Accuracy: [89.62%,88.27]\n",
      "24 - Loss: [0.28,0.65] | Accuracy: [89.74%,82.53]\n",
      "25 - Loss: [0.28,0.32] | Accuracy: [89.79%,88.57]\n",
      "26 - Loss: [0.27,0.35] | Accuracy: [89.99%,87.70]\n",
      "27 - Loss: [0.27,0.32] | Accuracy: [90.04%,88.60]\n",
      "28 - Loss: [0.27,0.32] | Accuracy: [90.29%,88.52]\n",
      "29 - Loss: [0.27,0.32] | Accuracy: [90.07%,88.81]\n",
      "30 - Loss: [0.27,0.34] | Accuracy: [90.34%,87.92]\n"
     ]
    }
   ],
   "source": [
    "## TODO: Train your model with dropout, and monitor the training progress with the validation loss and accuracy\n",
    "\n",
    "model.cuda()\n",
    "cuda = torch.device('cuda')\n",
    "\n",
    "epochs = 30\n",
    "\n",
    "\n",
    "for e in range(epochs):\n",
    "    train_loss = 0\n",
    "    eval_loss = 0\n",
    "    train_scores = None\n",
    "    eval_scores = None\n",
    "    \n",
    "    for images,labels in trainloader:\n",
    "        \n",
    "        optimizer.zero_grad()\n",
    "        \n",
    "        images = images.to(cuda).view(images.shape[0],-1)\n",
    "        labels = labels.to(cuda)\n",
    "        \n",
    "        output = model(images)\n",
    "        loss = criterion(output, labels)\n",
    "        loss.backward()\n",
    "        optimizer.step()\n",
    "        \n",
    "        train_loss += loss.item()\n",
    "        \n",
    "        top_p, top_class = output.topk(1,dim=1)\n",
    "        scores = (top_class == labels.view(top_class.shape)).type(torch.FloatTensor)\n",
    "        \n",
    "        if train_scores == None:\n",
    "            train_scores = scores\n",
    "        else:\n",
    "            train_scores = torch.cat((train_scores,scores))\n",
    "        \n",
    "    else:\n",
    "        with torch.no_grad():\n",
    "            model.eval()\n",
    "\n",
    "            for images, labels in testloader:\n",
    "                images = images.to(cuda).view(images.shape[0],-1)\n",
    "                labels = labels.to(cuda)\n",
    "                \n",
    "                log_prob = model(images)\n",
    "                loss = criterion(log_prob, labels)\n",
    "                eval_loss += loss.item()\n",
    "                \n",
    "                top_p, top_class = log_prob.topk(1,dim=1)\n",
    "                \n",
    "                scores = (top_class == labels.view(top_class.shape)).type(torch.FloatTensor)\n",
    "                \n",
    "                if eval_scores == None:\n",
    "                    eval_scores = scores\n",
    "                else:\n",
    "                    eval_scores = torch.cat((eval_scores, scores))\n",
    "                \n",
    "            print('{:2d} - Loss: [{:.2f},{:.2f}] | Accuracy: [{:.2f}%,{:.2f}]'.format(\n",
    "                e+1,\n",
    "                train_loss / len(trainloader),\n",
    "                eval_loss / len(testloader),\n",
    "                torch.mean(train_scores.cpu()).item()*100,\n",
    "                torch.mean(eval_scores.cpu()).item()*100))\n",
    "            \n",
    "            model.train()"
   ]
  },
  {
   "cell_type": "markdown",
   "metadata": {},
   "source": [
    "## Inference\n",
    "\n",
    "Now that the model is trained, we can use it for inference. We've done this before, but now we need to remember to set the model in inference mode with `model.eval()`. You'll also want to turn off autograd with the `torch.no_grad()` context."
   ]
  },
  {
   "cell_type": "code",
   "execution_count": 90,
   "metadata": {},
   "outputs": [
    {
     "data": {
      "image/png": "[encoded data removed]",
      "text/plain": [
       "<Figure size 432x648 with 2 Axes>"
      ]
     },
     "metadata": {
      "needs_background": "light"
     },
     "output_type": "display_data"
    }
   ],
   "source": [
    "# Import helper module (should be in the repo)\n",
    "import helper\n",
    "\n",
    "# Test out your network!\n",
    "model.cpu()\n",
    "model.eval()\n",
    "\n",
    "dataiter = iter(testloader)\n",
    "images, labels = dataiter.next()\n",
    "img = images[0]\n",
    "# Convert 2D image to 1D vector\n",
    "img = img.view(1, 784)\n",
    "\n",
    "# Calculate the class probabilities (softmax) for img\n",
    "with torch.no_grad():\n",
    "    output = model.forward(img)\n",
    "\n",
    "ps = torch.exp(output)\n",
    "\n",
    "# Plot the image and probabilities\n",
    "helper.view_classify(img.view(1, 28, 28), ps, version='Fashion')"
   ]
  },
  {
   "cell_type": "markdown",
   "metadata": {},
   "source": [
    "## Next Up!\n",
    "\n",
    "In the next part, I'll show you how to save your trained models. In general, you won't want to train a model everytime you need it. Instead, you'll train once, save it, then load the model when you want to train more or use if for inference."
   ]
  },
  {
   "cell_type": "code",
   "execution_count": null,
   "metadata": {},
   "outputs": [],
   "source": []
  }
 ],
 "metadata": {
  "kernelspec": {
   "display_name": "Python 3",
   "language": "python",
   "name": "python3"
  },
  "language_info": {
   "codemirror_mode": {
    "name": "ipython",
    "version": 3
   },
   "file_extension": ".py",
   "mimetype": "text/x-python",
   "name": "python",
   "nbconvert_exporter": "python",
   "pygments_lexer": "ipython3",
   "version": "3.8.2"
  }
 },
 "nbformat": 4,
 "nbformat_minor": 2
}
